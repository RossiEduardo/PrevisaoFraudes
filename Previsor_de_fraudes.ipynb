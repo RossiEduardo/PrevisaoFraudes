{
  "cells": [
    {
      "cell_type": "code",
      "execution_count": 21,
      "metadata": {
        "id": "ltAwe1KrwJub"
      },
      "outputs": [],
      "source": [
        "import pandas as pd\n",
        "import numpy as np\n",
        "import sklearn"
      ]
    },
    {
      "cell_type": "code",
      "execution_count": 22,
      "metadata": {
        "colab": {
          "base_uri": "https://localhost:8080/",
          "height": 487
        },
        "id": "STkIVXgszvks",
        "outputId": "e753cfb2-bde5-4e56-ed4b-a4199f70c1dd"
      },
      "outputs": [
        {
          "output_type": "execute_result",
          "data": {
            "text/plain": [
              "            Time         V1         V2        V3        V4        V5  \\\n",
              "0        84693.0  -0.439952   0.683758  1.225814  0.639113  0.716765   \n",
              "1        84694.0  -4.868108   1.264420 -5.167885  3.193648 -3.045621   \n",
              "2        84695.0   1.013114  -0.334412  1.305208  0.837406 -1.126833   \n",
              "3        84695.0   0.969231  -0.233554  0.238473  0.145793 -0.545741   \n",
              "4        84696.0  -0.856523   1.080875  1.866956  1.729941 -0.161741   \n",
              "...          ...        ...        ...       ...       ...       ...   \n",
              "142398  172786.0 -11.881118  10.071785 -9.834783 -2.066656 -5.364473   \n",
              "142399  172787.0  -0.732789  -0.055080  2.035030 -0.738589  0.868229   \n",
              "142400  172788.0   1.919565  -0.301254 -3.249640 -0.557828  2.630515   \n",
              "142401  172788.0  -0.240440   0.530483  0.702510  0.689799 -0.377961   \n",
              "142402  172792.0  -0.533413  -0.189733  0.703337 -0.506271 -0.012546   \n",
              "\n",
              "              V6        V7        V8        V9  ...       V21       V22  \\\n",
              "0       0.089295  0.657718  0.034213 -0.472679  ...  0.127443  0.588590   \n",
              "1      -2.096166 -6.445610  2.422536 -3.214055  ...  1.269205  0.057657   \n",
              "2      -0.064321 -0.594753  0.147737  0.536360  ...  0.017079  0.112210   \n",
              "3      -0.970680  0.347393 -0.209522 -0.342571  ... -0.362820 -1.417272   \n",
              "4       0.028789  0.401787  0.043774 -0.213916  ...  0.007365  0.077392   \n",
              "...          ...       ...       ...       ...  ...       ...       ...   \n",
              "142398 -2.606837 -4.918215  7.305334  1.914428  ...  0.213454  0.111864   \n",
              "142399  1.058415  0.024330  0.294869  0.584800  ...  0.214205  0.924384   \n",
              "142400  3.031260 -0.296827  0.708417  0.432454  ...  0.232045  0.578229   \n",
              "142401  0.623708 -0.686180  0.679145  0.392087  ...  0.265245  0.800049   \n",
              "142402 -0.649617  1.577006 -0.414650  0.486180  ...  0.261057  0.643078   \n",
              "\n",
              "             V23       V24       V25       V26       V27       V28  Amount  \\\n",
              "0      -0.145728 -0.322900 -0.299744 -0.310295  0.248317 -0.011493   19.00   \n",
              "1       0.629307 -0.168432  0.443744  0.276539  1.441274 -0.127944   12.31   \n",
              "2      -0.016084  0.595033  0.201073  0.278215  0.007457  0.030762   66.60   \n",
              "3       0.162136  0.541628 -0.079465  0.268702 -0.101237  0.028234  141.00   \n",
              "4      -0.221906  0.394141  0.237225 -0.080102 -0.291408  0.092140    2.60   \n",
              "...          ...       ...       ...       ...       ...       ...     ...   \n",
              "142398  1.014480 -0.509348  1.436807  0.250034  0.943651  0.823731    0.77   \n",
              "142399  0.012463 -1.016226 -0.606624 -0.395255  0.068472 -0.053527   24.79   \n",
              "142400 -0.037501  0.640134  0.265745 -0.087371  0.004455 -0.026561   67.88   \n",
              "142401 -0.163298  0.123205 -0.569159  0.546668  0.108821  0.104533   10.00   \n",
              "142402  0.376777  0.008797 -0.473649 -0.818267 -0.002415  0.013649  217.00   \n",
              "\n",
              "        Class  \n",
              "0           0  \n",
              "1           1  \n",
              "2           0  \n",
              "3           0  \n",
              "4           0  \n",
              "...       ...  \n",
              "142398      0  \n",
              "142399      0  \n",
              "142400      0  \n",
              "142401      0  \n",
              "142402      0  \n",
              "\n",
              "[142403 rows x 31 columns]"
            ],
            "text/html": [
              "\n",
              "  <div id=\"df-5ff91025-4a84-4bca-a94f-80df95d0595e\">\n",
              "    <div class=\"colab-df-container\">\n",
              "      <div>\n",
              "<style scoped>\n",
              "    .dataframe tbody tr th:only-of-type {\n",
              "        vertical-align: middle;\n",
              "    }\n",
              "\n",
              "    .dataframe tbody tr th {\n",
              "        vertical-align: top;\n",
              "    }\n",
              "\n",
              "    .dataframe thead th {\n",
              "        text-align: right;\n",
              "    }\n",
              "</style>\n",
              "<table border=\"1\" class=\"dataframe\">\n",
              "  <thead>\n",
              "    <tr style=\"text-align: right;\">\n",
              "      <th></th>\n",
              "      <th>Time</th>\n",
              "      <th>V1</th>\n",
              "      <th>V2</th>\n",
              "      <th>V3</th>\n",
              "      <th>V4</th>\n",
              "      <th>V5</th>\n",
              "      <th>V6</th>\n",
              "      <th>V7</th>\n",
              "      <th>V8</th>\n",
              "      <th>V9</th>\n",
              "      <th>...</th>\n",
              "      <th>V21</th>\n",
              "      <th>V22</th>\n",
              "      <th>V23</th>\n",
              "      <th>V24</th>\n",
              "      <th>V25</th>\n",
              "      <th>V26</th>\n",
              "      <th>V27</th>\n",
              "      <th>V28</th>\n",
              "      <th>Amount</th>\n",
              "      <th>Class</th>\n",
              "    </tr>\n",
              "  </thead>\n",
              "  <tbody>\n",
              "    <tr>\n",
              "      <th>0</th>\n",
              "      <td>84693.0</td>\n",
              "      <td>-0.439952</td>\n",
              "      <td>0.683758</td>\n",
              "      <td>1.225814</td>\n",
              "      <td>0.639113</td>\n",
              "      <td>0.716765</td>\n",
              "      <td>0.089295</td>\n",
              "      <td>0.657718</td>\n",
              "      <td>0.034213</td>\n",
              "      <td>-0.472679</td>\n",
              "      <td>...</td>\n",
              "      <td>0.127443</td>\n",
              "      <td>0.588590</td>\n",
              "      <td>-0.145728</td>\n",
              "      <td>-0.322900</td>\n",
              "      <td>-0.299744</td>\n",
              "      <td>-0.310295</td>\n",
              "      <td>0.248317</td>\n",
              "      <td>-0.011493</td>\n",
              "      <td>19.00</td>\n",
              "      <td>0</td>\n",
              "    </tr>\n",
              "    <tr>\n",
              "      <th>1</th>\n",
              "      <td>84694.0</td>\n",
              "      <td>-4.868108</td>\n",
              "      <td>1.264420</td>\n",
              "      <td>-5.167885</td>\n",
              "      <td>3.193648</td>\n",
              "      <td>-3.045621</td>\n",
              "      <td>-2.096166</td>\n",
              "      <td>-6.445610</td>\n",
              "      <td>2.422536</td>\n",
              "      <td>-3.214055</td>\n",
              "      <td>...</td>\n",
              "      <td>1.269205</td>\n",
              "      <td>0.057657</td>\n",
              "      <td>0.629307</td>\n",
              "      <td>-0.168432</td>\n",
              "      <td>0.443744</td>\n",
              "      <td>0.276539</td>\n",
              "      <td>1.441274</td>\n",
              "      <td>-0.127944</td>\n",
              "      <td>12.31</td>\n",
              "      <td>1</td>\n",
              "    </tr>\n",
              "    <tr>\n",
              "      <th>2</th>\n",
              "      <td>84695.0</td>\n",
              "      <td>1.013114</td>\n",
              "      <td>-0.334412</td>\n",
              "      <td>1.305208</td>\n",
              "      <td>0.837406</td>\n",
              "      <td>-1.126833</td>\n",
              "      <td>-0.064321</td>\n",
              "      <td>-0.594753</td>\n",
              "      <td>0.147737</td>\n",
              "      <td>0.536360</td>\n",
              "      <td>...</td>\n",
              "      <td>0.017079</td>\n",
              "      <td>0.112210</td>\n",
              "      <td>-0.016084</td>\n",
              "      <td>0.595033</td>\n",
              "      <td>0.201073</td>\n",
              "      <td>0.278215</td>\n",
              "      <td>0.007457</td>\n",
              "      <td>0.030762</td>\n",
              "      <td>66.60</td>\n",
              "      <td>0</td>\n",
              "    </tr>\n",
              "    <tr>\n",
              "      <th>3</th>\n",
              "      <td>84695.0</td>\n",
              "      <td>0.969231</td>\n",
              "      <td>-0.233554</td>\n",
              "      <td>0.238473</td>\n",
              "      <td>0.145793</td>\n",
              "      <td>-0.545741</td>\n",
              "      <td>-0.970680</td>\n",
              "      <td>0.347393</td>\n",
              "      <td>-0.209522</td>\n",
              "      <td>-0.342571</td>\n",
              "      <td>...</td>\n",
              "      <td>-0.362820</td>\n",
              "      <td>-1.417272</td>\n",
              "      <td>0.162136</td>\n",
              "      <td>0.541628</td>\n",
              "      <td>-0.079465</td>\n",
              "      <td>0.268702</td>\n",
              "      <td>-0.101237</td>\n",
              "      <td>0.028234</td>\n",
              "      <td>141.00</td>\n",
              "      <td>0</td>\n",
              "    </tr>\n",
              "    <tr>\n",
              "      <th>4</th>\n",
              "      <td>84696.0</td>\n",
              "      <td>-0.856523</td>\n",
              "      <td>1.080875</td>\n",
              "      <td>1.866956</td>\n",
              "      <td>1.729941</td>\n",
              "      <td>-0.161741</td>\n",
              "      <td>0.028789</td>\n",
              "      <td>0.401787</td>\n",
              "      <td>0.043774</td>\n",
              "      <td>-0.213916</td>\n",
              "      <td>...</td>\n",
              "      <td>0.007365</td>\n",
              "      <td>0.077392</td>\n",
              "      <td>-0.221906</td>\n",
              "      <td>0.394141</td>\n",
              "      <td>0.237225</td>\n",
              "      <td>-0.080102</td>\n",
              "      <td>-0.291408</td>\n",
              "      <td>0.092140</td>\n",
              "      <td>2.60</td>\n",
              "      <td>0</td>\n",
              "    </tr>\n",
              "    <tr>\n",
              "      <th>...</th>\n",
              "      <td>...</td>\n",
              "      <td>...</td>\n",
              "      <td>...</td>\n",
              "      <td>...</td>\n",
              "      <td>...</td>\n",
              "      <td>...</td>\n",
              "      <td>...</td>\n",
              "      <td>...</td>\n",
              "      <td>...</td>\n",
              "      <td>...</td>\n",
              "      <td>...</td>\n",
              "      <td>...</td>\n",
              "      <td>...</td>\n",
              "      <td>...</td>\n",
              "      <td>...</td>\n",
              "      <td>...</td>\n",
              "      <td>...</td>\n",
              "      <td>...</td>\n",
              "      <td>...</td>\n",
              "      <td>...</td>\n",
              "      <td>...</td>\n",
              "    </tr>\n",
              "    <tr>\n",
              "      <th>142398</th>\n",
              "      <td>172786.0</td>\n",
              "      <td>-11.881118</td>\n",
              "      <td>10.071785</td>\n",
              "      <td>-9.834783</td>\n",
              "      <td>-2.066656</td>\n",
              "      <td>-5.364473</td>\n",
              "      <td>-2.606837</td>\n",
              "      <td>-4.918215</td>\n",
              "      <td>7.305334</td>\n",
              "      <td>1.914428</td>\n",
              "      <td>...</td>\n",
              "      <td>0.213454</td>\n",
              "      <td>0.111864</td>\n",
              "      <td>1.014480</td>\n",
              "      <td>-0.509348</td>\n",
              "      <td>1.436807</td>\n",
              "      <td>0.250034</td>\n",
              "      <td>0.943651</td>\n",
              "      <td>0.823731</td>\n",
              "      <td>0.77</td>\n",
              "      <td>0</td>\n",
              "    </tr>\n",
              "    <tr>\n",
              "      <th>142399</th>\n",
              "      <td>172787.0</td>\n",
              "      <td>-0.732789</td>\n",
              "      <td>-0.055080</td>\n",
              "      <td>2.035030</td>\n",
              "      <td>-0.738589</td>\n",
              "      <td>0.868229</td>\n",
              "      <td>1.058415</td>\n",
              "      <td>0.024330</td>\n",
              "      <td>0.294869</td>\n",
              "      <td>0.584800</td>\n",
              "      <td>...</td>\n",
              "      <td>0.214205</td>\n",
              "      <td>0.924384</td>\n",
              "      <td>0.012463</td>\n",
              "      <td>-1.016226</td>\n",
              "      <td>-0.606624</td>\n",
              "      <td>-0.395255</td>\n",
              "      <td>0.068472</td>\n",
              "      <td>-0.053527</td>\n",
              "      <td>24.79</td>\n",
              "      <td>0</td>\n",
              "    </tr>\n",
              "    <tr>\n",
              "      <th>142400</th>\n",
              "      <td>172788.0</td>\n",
              "      <td>1.919565</td>\n",
              "      <td>-0.301254</td>\n",
              "      <td>-3.249640</td>\n",
              "      <td>-0.557828</td>\n",
              "      <td>2.630515</td>\n",
              "      <td>3.031260</td>\n",
              "      <td>-0.296827</td>\n",
              "      <td>0.708417</td>\n",
              "      <td>0.432454</td>\n",
              "      <td>...</td>\n",
              "      <td>0.232045</td>\n",
              "      <td>0.578229</td>\n",
              "      <td>-0.037501</td>\n",
              "      <td>0.640134</td>\n",
              "      <td>0.265745</td>\n",
              "      <td>-0.087371</td>\n",
              "      <td>0.004455</td>\n",
              "      <td>-0.026561</td>\n",
              "      <td>67.88</td>\n",
              "      <td>0</td>\n",
              "    </tr>\n",
              "    <tr>\n",
              "      <th>142401</th>\n",
              "      <td>172788.0</td>\n",
              "      <td>-0.240440</td>\n",
              "      <td>0.530483</td>\n",
              "      <td>0.702510</td>\n",
              "      <td>0.689799</td>\n",
              "      <td>-0.377961</td>\n",
              "      <td>0.623708</td>\n",
              "      <td>-0.686180</td>\n",
              "      <td>0.679145</td>\n",
              "      <td>0.392087</td>\n",
              "      <td>...</td>\n",
              "      <td>0.265245</td>\n",
              "      <td>0.800049</td>\n",
              "      <td>-0.163298</td>\n",
              "      <td>0.123205</td>\n",
              "      <td>-0.569159</td>\n",
              "      <td>0.546668</td>\n",
              "      <td>0.108821</td>\n",
              "      <td>0.104533</td>\n",
              "      <td>10.00</td>\n",
              "      <td>0</td>\n",
              "    </tr>\n",
              "    <tr>\n",
              "      <th>142402</th>\n",
              "      <td>172792.0</td>\n",
              "      <td>-0.533413</td>\n",
              "      <td>-0.189733</td>\n",
              "      <td>0.703337</td>\n",
              "      <td>-0.506271</td>\n",
              "      <td>-0.012546</td>\n",
              "      <td>-0.649617</td>\n",
              "      <td>1.577006</td>\n",
              "      <td>-0.414650</td>\n",
              "      <td>0.486180</td>\n",
              "      <td>...</td>\n",
              "      <td>0.261057</td>\n",
              "      <td>0.643078</td>\n",
              "      <td>0.376777</td>\n",
              "      <td>0.008797</td>\n",
              "      <td>-0.473649</td>\n",
              "      <td>-0.818267</td>\n",
              "      <td>-0.002415</td>\n",
              "      <td>0.013649</td>\n",
              "      <td>217.00</td>\n",
              "      <td>0</td>\n",
              "    </tr>\n",
              "  </tbody>\n",
              "</table>\n",
              "<p>142403 rows × 31 columns</p>\n",
              "</div>\n",
              "      <button class=\"colab-df-convert\" onclick=\"convertToInteractive('df-5ff91025-4a84-4bca-a94f-80df95d0595e')\"\n",
              "              title=\"Convert this dataframe to an interactive table.\"\n",
              "              style=\"display:none;\">\n",
              "        \n",
              "  <svg xmlns=\"http://www.w3.org/2000/svg\" height=\"24px\"viewBox=\"0 0 24 24\"\n",
              "       width=\"24px\">\n",
              "    <path d=\"M0 0h24v24H0V0z\" fill=\"none\"/>\n",
              "    <path d=\"M18.56 5.44l.94 2.06.94-2.06 2.06-.94-2.06-.94-.94-2.06-.94 2.06-2.06.94zm-11 1L8.5 8.5l.94-2.06 2.06-.94-2.06-.94L8.5 2.5l-.94 2.06-2.06.94zm10 10l.94 2.06.94-2.06 2.06-.94-2.06-.94-.94-2.06-.94 2.06-2.06.94z\"/><path d=\"M17.41 7.96l-1.37-1.37c-.4-.4-.92-.59-1.43-.59-.52 0-1.04.2-1.43.59L10.3 9.45l-7.72 7.72c-.78.78-.78 2.05 0 2.83L4 21.41c.39.39.9.59 1.41.59.51 0 1.02-.2 1.41-.59l7.78-7.78 2.81-2.81c.8-.78.8-2.07 0-2.86zM5.41 20L4 18.59l7.72-7.72 1.47 1.35L5.41 20z\"/>\n",
              "  </svg>\n",
              "      </button>\n",
              "      \n",
              "  <style>\n",
              "    .colab-df-container {\n",
              "      display:flex;\n",
              "      flex-wrap:wrap;\n",
              "      gap: 12px;\n",
              "    }\n",
              "\n",
              "    .colab-df-convert {\n",
              "      background-color: #E8F0FE;\n",
              "      border: none;\n",
              "      border-radius: 50%;\n",
              "      cursor: pointer;\n",
              "      display: none;\n",
              "      fill: #1967D2;\n",
              "      height: 32px;\n",
              "      padding: 0 0 0 0;\n",
              "      width: 32px;\n",
              "    }\n",
              "\n",
              "    .colab-df-convert:hover {\n",
              "      background-color: #E2EBFA;\n",
              "      box-shadow: 0px 1px 2px rgba(60, 64, 67, 0.3), 0px 1px 3px 1px rgba(60, 64, 67, 0.15);\n",
              "      fill: #174EA6;\n",
              "    }\n",
              "\n",
              "    [theme=dark] .colab-df-convert {\n",
              "      background-color: #3B4455;\n",
              "      fill: #D2E3FC;\n",
              "    }\n",
              "\n",
              "    [theme=dark] .colab-df-convert:hover {\n",
              "      background-color: #434B5C;\n",
              "      box-shadow: 0px 1px 3px 1px rgba(0, 0, 0, 0.15);\n",
              "      filter: drop-shadow(0px 1px 2px rgba(0, 0, 0, 0.3));\n",
              "      fill: #FFFFFF;\n",
              "    }\n",
              "  </style>\n",
              "\n",
              "      <script>\n",
              "        const buttonEl =\n",
              "          document.querySelector('#df-5ff91025-4a84-4bca-a94f-80df95d0595e button.colab-df-convert');\n",
              "        buttonEl.style.display =\n",
              "          google.colab.kernel.accessAllowed ? 'block' : 'none';\n",
              "\n",
              "        async function convertToInteractive(key) {\n",
              "          const element = document.querySelector('#df-5ff91025-4a84-4bca-a94f-80df95d0595e');\n",
              "          const dataTable =\n",
              "            await google.colab.kernel.invokeFunction('convertToInteractive',\n",
              "                                                     [key], {});\n",
              "          if (!dataTable) return;\n",
              "\n",
              "          const docLinkHtml = 'Like what you see? Visit the ' +\n",
              "            '<a target=\"_blank\" href=https://colab.research.google.com/notebooks/data_table.ipynb>data table notebook</a>'\n",
              "            + ' to learn more about interactive tables.';\n",
              "          element.innerHTML = '';\n",
              "          dataTable['output_type'] = 'display_data';\n",
              "          await google.colab.output.renderOutput(dataTable, element);\n",
              "          const docLink = document.createElement('div');\n",
              "          docLink.innerHTML = docLinkHtml;\n",
              "          element.appendChild(docLink);\n",
              "        }\n",
              "      </script>\n",
              "    </div>\n",
              "  </div>\n",
              "  "
            ]
          },
          "metadata": {},
          "execution_count": 22
        }
      ],
      "source": [
        "# Ler o arquivo CSV e criar um DataFrame\n",
        "df = pd.read_csv('test.csv')\n",
        "df"
      ]
    },
    {
      "cell_type": "markdown",
      "metadata": {
        "id": "olr83cLu3WjN"
      },
      "source": [
        "1) A variavel resposta é a Class, 1 indica que é fraude e 0 indica que não. Tirei essa conclusão pois as outras variaveis são floats, logo não faz sentido valores floats indicarem se é fruade ou não."
      ]
    },
    {
      "cell_type": "markdown",
      "metadata": {
        "id": "uIRIs61s4HWo"
      },
      "source": [
        "1)A)"
      ]
    },
    {
      "cell_type": "code",
      "execution_count": 23,
      "metadata": {
        "colab": {
          "base_uri": "https://localhost:8080/",
          "height": 524
        },
        "id": "EoBzLj3W4Faa",
        "outputId": "e7413fdf-fd7a-4de4-82ff-4a1a5c5ecf23"
      },
      "outputs": [
        {
          "output_type": "display_data",
          "data": {
            "text/plain": [
              "<Figure size 640x480 with 1 Axes>"
            ],
            "image/png": "[encoded data removed]"
          },
          "metadata": {}
        },
        {
          "output_type": "execute_result",
          "data": {
            "text/plain": [
              "0    142180\n",
              "1       223\n",
              "Name: Class, dtype: int64"
            ]
          },
          "metadata": {},
          "execution_count": 23
        }
      ],
      "source": [
        "import matplotlib.pyplot as plt\n",
        "\n",
        "# Plotar histograma\n",
        "plt.hist(df['Class'], bins='auto', edgecolor='black')\n",
        "\n",
        "# Configurar o título e rótulos dos eixos\n",
        "plt.title('Histograma de fraudes')\n",
        "plt.xlabel('Valores')\n",
        "plt.ylabel('Frequência')\n",
        "\n",
        "# Exibir o histograma\n",
        "plt.show()\n",
        "contagem = df['Class'].value_counts()\n",
        "contagem"
      ]
    },
    {
      "cell_type": "markdown",
      "metadata": {
        "id": "xMY-hDmo6a-w"
      },
      "source": [
        "B) A variavel Time é a coluna que contém metadado, pois um metadado normalmente contêm informações adicionais sobre os dados, como descrição, nome, tipo de dado, unidade de medida, entre outros, e a Time nos fornece o tempo."
      ]
    },
    {
      "cell_type": "markdown",
      "metadata": {
        "id": "XzE2BZ3e6_1F"
      },
      "source": [
        "2)"
      ]
    },
    {
      "cell_type": "code",
      "execution_count": 24,
      "metadata": {
        "colab": {
          "base_uri": "https://localhost:8080/"
        },
        "id": "4h3f6NWI6_EI",
        "outputId": "19cba029-fb39-4a18-b92a-39d1c5ffa9ee"
      },
      "outputs": [
        {
          "output_type": "stream",
          "name": "stdout",
          "text": [
            "Acurácia (aleatório): 0.4989958147243055\n",
            "AUC (aleatório): 0.5078454393651358\n",
            "\n",
            "Acurácia (todos os casos como fraude): 0.0018889918822504986\n",
            "AUC (todos os casos como fraude): 0.5\n",
            "\n",
            "Acurácia (todos os casos como não fraude): 0.9981110081177496\n",
            "AUC (todos os casos como não fraude): 0.5\n",
            "\n"
          ]
        }
      ],
      "source": [
        "import pandas as pd\n",
        "import random\n",
        "from sklearn.metrics import roc_auc_score\n",
        "\n",
        "# Carregando os dados de treino\n",
        "df_train = pd.read_csv('train.csv')\n",
        "\n",
        "X_train = df_train.drop(['Time', 'Class'], axis=1)\n",
        "y_train = df_train['Class']\n",
        "\n",
        "# Modelo que classifica aleatoriamente\n",
        "random_pred = [random.choice([0, 1]) for _ in range(len(y_train))]\n",
        "\n",
        "# Modelo que classifica todos os casos como fraude\n",
        "fraude_pred = [1] * len(y_train)\n",
        "\n",
        "# Modelo que classifica todos os casos como não fraude\n",
        "nao_fraude_pred = [0] * len(y_train)\n",
        "\n",
        "# Calcular a acurácia\n",
        "accuracy_random = sum(random_pred == y_train) / len(y_train)\n",
        "accuracy_fraud = sum(fraude_pred == y_train) / len(y_train)\n",
        "accuracy_non_fraud = sum(nao_fraude_pred == y_train) / len(y_train)\n",
        "\n",
        "# Calcular a AUC \n",
        "auc_random = roc_auc_score(y_train, random_pred)\n",
        "auc_fraud = roc_auc_score(y_train, fraude_pred)\n",
        "auc_non_fraud = roc_auc_score(y_train, nao_fraude_pred)\n",
        "\n",
        "# Imprimir as métricas\n",
        "print(f\"Acurácia (aleatório): {accuracy_random}\")\n",
        "print(f\"AUC (aleatório): {auc_random}\\n\")\n",
        "print(f\"Acurácia (todos os casos como fraude): {accuracy_fraud}\")\n",
        "print(f\"AUC (todos os casos como fraude): {auc_fraud}\\n\")\n",
        "print(f\"Acurácia (todos os casos como não fraude): {accuracy_non_fraud}\")\n",
        "print(f\"AUC (todos os casos como não fraude): {auc_non_fraud}\\n\")"
      ]
    },
    {
      "cell_type": "markdown",
      "metadata": {
        "id": "GXC2DuVYAGhc"
      },
      "source": [
        "B) Considerando que estamos trabalhando com um problema de detecção de fraudes, algo que tem um desequilibrio significativo no número de fraudes e não fraudes, a métrica mais apropriada para medir os resultados dos modelos nessa base de dados é a AUC, pois ela é muito útil quando há um desequilíbrio de classes, porque leva em consideração a classificação correta em diferentes limiares de probabilidade."
      ]
    },
    {
      "cell_type": "markdown",
      "metadata": {
        "id": "4iQM5Nn9qpXT"
      },
      "source": [
        "3)\n",
        "A)"
      ]
    },
    {
      "cell_type": "code",
      "execution_count": 25,
      "metadata": {
        "id": "S5VbGgihBZn7"
      },
      "outputs": [],
      "source": [
        "from sklearn.ensemble import RandomForestClassifier\n",
        "from sklearn.model_selection import cross_val_score\n",
        "from sklearn.model_selection import GridSearchCV\n",
        "\n",
        "\n",
        "# Definir os valores dos hiperparâmetros a serem testados\n",
        "param_grid = {\n",
        "  'n_estimators': [10, 50, 100, 200],\n",
        "  'max_depth': [2, 3, 4, 5]  \n",
        "}\n",
        "\n",
        "rf = RandomForestClassifier(random_state=42)\n",
        "grid_search = GridSearchCV(rf, param_grid, cv=3, scoring='roc_auc')"
      ]
    },
    {
      "cell_type": "code",
      "execution_count": 26,
      "metadata": {
        "colab": {
          "base_uri": "https://localhost:8080/",
          "height": 117
        },
        "id": "h3mok5pr6aJ6",
        "outputId": "6ede583d-f006-4f51-e4ba-bb5144d5f284"
      },
      "outputs": [
        {
          "output_type": "execute_result",
          "data": {
            "text/plain": [
              "GridSearchCV(cv=3, estimator=RandomForestClassifier(random_state=42),\n",
              "             param_grid={'max_depth': [2, 3, 4, 5],\n",
              "                         'n_estimators': [10, 50, 100, 200]},\n",
              "             scoring='roc_auc')"
            ],
            "text/html": [
              "<style>#sk-container-id-3 {color: black;background-color: white;}#sk-container-id-3 pre{padding: 0;}#sk-container-id-3 div.sk-toggleable {background-color: white;}#sk-container-id-3 label.sk-toggleable__label {cursor: pointer;display: block;width: 100%;margin-bottom: 0;padding: 0.3em;box-sizing: border-box;text-align: center;}#sk-container-id-3 label.sk-toggleable__label-arrow:before {content: \"▸\";float: left;margin-right: 0.25em;color: #696969;}#sk-container-id-3 label.sk-toggleable__label-arrow:hover:before {color: black;}#sk-container-id-3 div.sk-estimator:hover label.sk-toggleable__label-arrow:before {color: black;}#sk-container-id-3 div.sk-toggleable__content {max-height: 0;max-width: 0;overflow: hidden;text-align: left;background-color: #f0f8ff;}#sk-container-id-3 div.sk-toggleable__content pre {margin: 0.2em;color: black;border-radius: 0.25em;background-color: #f0f8ff;}#sk-container-id-3 input.sk-toggleable__control:checked~div.sk-toggleable__content {max-height: 200px;max-width: 100%;overflow: auto;}#sk-container-id-3 input.sk-toggleable__control:checked~label.sk-toggleable__label-arrow:before {content: \"▾\";}#sk-container-id-3 div.sk-estimator input.sk-toggleable__control:checked~label.sk-toggleable__label {background-color: #d4ebff;}#sk-container-id-3 div.sk-label input.sk-toggleable__control:checked~label.sk-toggleable__label {background-color: #d4ebff;}#sk-container-id-3 input.sk-hidden--visually {border: 0;clip: rect(1px 1px 1px 1px);clip: rect(1px, 1px, 1px, 1px);height: 1px;margin: -1px;overflow: hidden;padding: 0;position: absolute;width: 1px;}#sk-container-id-3 div.sk-estimator {font-family: monospace;background-color: #f0f8ff;border: 1px dotted black;border-radius: 0.25em;box-sizing: border-box;margin-bottom: 0.5em;}#sk-container-id-3 div.sk-estimator:hover {background-color: #d4ebff;}#sk-container-id-3 div.sk-parallel-item::after {content: \"\";width: 100%;border-bottom: 1px solid gray;flex-grow: 1;}#sk-container-id-3 div.sk-label:hover label.sk-toggleable__label {background-color: #d4ebff;}#sk-container-id-3 div.sk-serial::before {content: \"\";position: absolute;border-left: 1px solid gray;box-sizing: border-box;top: 0;bottom: 0;left: 50%;z-index: 0;}#sk-container-id-3 div.sk-serial {display: flex;flex-direction: column;align-items: center;background-color: white;padding-right: 0.2em;padding-left: 0.2em;position: relative;}#sk-container-id-3 div.sk-item {position: relative;z-index: 1;}#sk-container-id-3 div.sk-parallel {display: flex;align-items: stretch;justify-content: center;background-color: white;position: relative;}#sk-container-id-3 div.sk-item::before, #sk-container-id-3 div.sk-parallel-item::before {content: \"\";position: absolute;border-left: 1px solid gray;box-sizing: border-box;top: 0;bottom: 0;left: 50%;z-index: -1;}#sk-container-id-3 div.sk-parallel-item {display: flex;flex-direction: column;z-index: 1;position: relative;background-color: white;}#sk-container-id-3 div.sk-parallel-item:first-child::after {align-self: flex-end;width: 50%;}#sk-container-id-3 div.sk-parallel-item:last-child::after {align-self: flex-start;width: 50%;}#sk-container-id-3 div.sk-parallel-item:only-child::after {width: 0;}#sk-container-id-3 div.sk-dashed-wrapped {border: 1px dashed gray;margin: 0 0.4em 0.5em 0.4em;box-sizing: border-box;padding-bottom: 0.4em;background-color: white;}#sk-container-id-3 div.sk-label label {font-family: monospace;font-weight: bold;display: inline-block;line-height: 1.2em;}#sk-container-id-3 div.sk-label-container {text-align: center;}#sk-container-id-3 div.sk-container {/* jupyter's `normalize.less` sets `[hidden] { display: none; }` but bootstrap.min.css set `[hidden] { display: none !important; }` so we also need the `!important` here to be able to override the default hidden behavior on the sphinx rendered scikit-learn.org. See: https://github.com/scikit-learn/scikit-learn/issues/21755 */display: inline-block !important;position: relative;}#sk-container-id-3 div.sk-text-repr-fallback {display: none;}</style><div id=\"sk-container-id-3\" class=\"sk-top-container\"><div class=\"sk-text-repr-fallback\"><pre>GridSearchCV(cv=3, estimator=RandomForestClassifier(random_state=42),\n",
              "             param_grid={&#x27;max_depth&#x27;: [2, 3, 4, 5],\n",
              "                         &#x27;n_estimators&#x27;: [10, 50, 100, 200]},\n",
              "             scoring=&#x27;roc_auc&#x27;)</pre><b>In a Jupyter environment, please rerun this cell to show the HTML representation or trust the notebook. <br />On GitHub, the HTML representation is unable to render, please try loading this page with nbviewer.org.</b></div><div class=\"sk-container\" hidden><div class=\"sk-item sk-dashed-wrapped\"><div class=\"sk-label-container\"><div class=\"sk-label sk-toggleable\"><input class=\"sk-toggleable__control sk-hidden--visually\" id=\"sk-estimator-id-7\" type=\"checkbox\" ><label for=\"sk-estimator-id-7\" class=\"sk-toggleable__label sk-toggleable__label-arrow\">GridSearchCV</label><div class=\"sk-toggleable__content\"><pre>GridSearchCV(cv=3, estimator=RandomForestClassifier(random_state=42),\n",
              "             param_grid={&#x27;max_depth&#x27;: [2, 3, 4, 5],\n",
              "                         &#x27;n_estimators&#x27;: [10, 50, 100, 200]},\n",
              "             scoring=&#x27;roc_auc&#x27;)</pre></div></div></div><div class=\"sk-parallel\"><div class=\"sk-parallel-item\"><div class=\"sk-item\"><div class=\"sk-label-container\"><div class=\"sk-label sk-toggleable\"><input class=\"sk-toggleable__control sk-hidden--visually\" id=\"sk-estimator-id-8\" type=\"checkbox\" ><label for=\"sk-estimator-id-8\" class=\"sk-toggleable__label sk-toggleable__label-arrow\">estimator: RandomForestClassifier</label><div class=\"sk-toggleable__content\"><pre>RandomForestClassifier(random_state=42)</pre></div></div></div><div class=\"sk-serial\"><div class=\"sk-item\"><div class=\"sk-estimator sk-toggleable\"><input class=\"sk-toggleable__control sk-hidden--visually\" id=\"sk-estimator-id-9\" type=\"checkbox\" ><label for=\"sk-estimator-id-9\" class=\"sk-toggleable__label sk-toggleable__label-arrow\">RandomForestClassifier</label><div class=\"sk-toggleable__content\"><pre>RandomForestClassifier(random_state=42)</pre></div></div></div></div></div></div></div></div></div></div>"
            ]
          },
          "metadata": {},
          "execution_count": 26
        }
      ],
      "source": [
        "grid_search.fit(X_train, y_train)"
      ]
    },
    {
      "cell_type": "code",
      "execution_count": 27,
      "metadata": {
        "id": "E3YF1_iB6xwV",
        "colab": {
          "base_uri": "https://localhost:8080/"
        },
        "outputId": "d864b33b-f75a-4136-eacc-a79fe67c437b"
      },
      "outputs": [
        {
          "output_type": "stream",
          "name": "stdout",
          "text": [
            "RandomForestClassifier(max_depth=5, random_state=42)\n"
          ]
        }
      ],
      "source": [
        "best_model = grid_search.best_estimator_\n",
        "print(best_model)"
      ]
    },
    {
      "cell_type": "code",
      "execution_count": 28,
      "metadata": {
        "colab": {
          "base_uri": "https://localhost:8080/"
        },
        "id": "ygPcJa94HFd-",
        "outputId": "f807e6cb-a4b1-40f8-90fd-7b4566199fff"
      },
      "outputs": [
        {
          "output_type": "stream",
          "name": "stdout",
          "text": [
            "{'max_depth': 5, 'n_estimators': 100}\n",
            "0.9673589128101902\n"
          ]
        }
      ],
      "source": [
        "print(grid_search.best_params_)\n",
        "print(grid_search.best_score_)"
      ]
    },
    {
      "cell_type": "markdown",
      "metadata": {
        "id": "ynPSwY_8rCkQ"
      },
      "source": [
        "B)"
      ]
    },
    {
      "cell_type": "code",
      "execution_count": 29,
      "metadata": {
        "id": "BJGYoEnqqutP"
      },
      "outputs": [],
      "source": [
        "rf = RandomForestClassifier(random_state=42, class_weight='balanced')\n",
        "grid_search = GridSearchCV(rf, param_grid, cv=3, scoring='roc_auc')"
      ]
    },
    {
      "cell_type": "code",
      "execution_count": 30,
      "metadata": {
        "colab": {
          "base_uri": "https://localhost:8080/",
          "height": 117
        },
        "id": "3249_X-pGN_e",
        "outputId": "4b0566af-f37c-49cd-8a1c-e81530b3a3c9"
      },
      "outputs": [
        {
          "output_type": "execute_result",
          "data": {
            "text/plain": [
              "GridSearchCV(cv=3,\n",
              "             estimator=RandomForestClassifier(class_weight='balanced',\n",
              "                                              random_state=42),\n",
              "             param_grid={'max_depth': [2, 3, 4, 5],\n",
              "                         'n_estimators': [10, 50, 100, 200]},\n",
              "             scoring='roc_auc')"
            ],
            "text/html": [
              "<style>#sk-container-id-4 {color: black;background-color: white;}#sk-container-id-4 pre{padding: 0;}#sk-container-id-4 div.sk-toggleable {background-color: white;}#sk-container-id-4 label.sk-toggleable__label {cursor: pointer;display: block;width: 100%;margin-bottom: 0;padding: 0.3em;box-sizing: border-box;text-align: center;}#sk-container-id-4 label.sk-toggleable__label-arrow:before {content: \"▸\";float: left;margin-right: 0.25em;color: #696969;}#sk-container-id-4 label.sk-toggleable__label-arrow:hover:before {color: black;}#sk-container-id-4 div.sk-estimator:hover label.sk-toggleable__label-arrow:before {color: black;}#sk-container-id-4 div.sk-toggleable__content {max-height: 0;max-width: 0;overflow: hidden;text-align: left;background-color: #f0f8ff;}#sk-container-id-4 div.sk-toggleable__content pre {margin: 0.2em;color: black;border-radius: 0.25em;background-color: #f0f8ff;}#sk-container-id-4 input.sk-toggleable__control:checked~div.sk-toggleable__content {max-height: 200px;max-width: 100%;overflow: auto;}#sk-container-id-4 input.sk-toggleable__control:checked~label.sk-toggleable__label-arrow:before {content: \"▾\";}#sk-container-id-4 div.sk-estimator input.sk-toggleable__control:checked~label.sk-toggleable__label {background-color: #d4ebff;}#sk-container-id-4 div.sk-label input.sk-toggleable__control:checked~label.sk-toggleable__label {background-color: #d4ebff;}#sk-container-id-4 input.sk-hidden--visually {border: 0;clip: rect(1px 1px 1px 1px);clip: rect(1px, 1px, 1px, 1px);height: 1px;margin: -1px;overflow: hidden;padding: 0;position: absolute;width: 1px;}#sk-container-id-4 div.sk-estimator {font-family: monospace;background-color: #f0f8ff;border: 1px dotted black;border-radius: 0.25em;box-sizing: border-box;margin-bottom: 0.5em;}#sk-container-id-4 div.sk-estimator:hover {background-color: #d4ebff;}#sk-container-id-4 div.sk-parallel-item::after {content: \"\";width: 100%;border-bottom: 1px solid gray;flex-grow: 1;}#sk-container-id-4 div.sk-label:hover label.sk-toggleable__label {background-color: #d4ebff;}#sk-container-id-4 div.sk-serial::before {content: \"\";position: absolute;border-left: 1px solid gray;box-sizing: border-box;top: 0;bottom: 0;left: 50%;z-index: 0;}#sk-container-id-4 div.sk-serial {display: flex;flex-direction: column;align-items: center;background-color: white;padding-right: 0.2em;padding-left: 0.2em;position: relative;}#sk-container-id-4 div.sk-item {position: relative;z-index: 1;}#sk-container-id-4 div.sk-parallel {display: flex;align-items: stretch;justify-content: center;background-color: white;position: relative;}#sk-container-id-4 div.sk-item::before, #sk-container-id-4 div.sk-parallel-item::before {content: \"\";position: absolute;border-left: 1px solid gray;box-sizing: border-box;top: 0;bottom: 0;left: 50%;z-index: -1;}#sk-container-id-4 div.sk-parallel-item {display: flex;flex-direction: column;z-index: 1;position: relative;background-color: white;}#sk-container-id-4 div.sk-parallel-item:first-child::after {align-self: flex-end;width: 50%;}#sk-container-id-4 div.sk-parallel-item:last-child::after {align-self: flex-start;width: 50%;}#sk-container-id-4 div.sk-parallel-item:only-child::after {width: 0;}#sk-container-id-4 div.sk-dashed-wrapped {border: 1px dashed gray;margin: 0 0.4em 0.5em 0.4em;box-sizing: border-box;padding-bottom: 0.4em;background-color: white;}#sk-container-id-4 div.sk-label label {font-family: monospace;font-weight: bold;display: inline-block;line-height: 1.2em;}#sk-container-id-4 div.sk-label-container {text-align: center;}#sk-container-id-4 div.sk-container {/* jupyter's `normalize.less` sets `[hidden] { display: none; }` but bootstrap.min.css set `[hidden] { display: none !important; }` so we also need the `!important` here to be able to override the default hidden behavior on the sphinx rendered scikit-learn.org. See: https://github.com/scikit-learn/scikit-learn/issues/21755 */display: inline-block !important;position: relative;}#sk-container-id-4 div.sk-text-repr-fallback {display: none;}</style><div id=\"sk-container-id-4\" class=\"sk-top-container\"><div class=\"sk-text-repr-fallback\"><pre>GridSearchCV(cv=3,\n",
              "             estimator=RandomForestClassifier(class_weight=&#x27;balanced&#x27;,\n",
              "                                              random_state=42),\n",
              "             param_grid={&#x27;max_depth&#x27;: [2, 3, 4, 5],\n",
              "                         &#x27;n_estimators&#x27;: [10, 50, 100, 200]},\n",
              "             scoring=&#x27;roc_auc&#x27;)</pre><b>In a Jupyter environment, please rerun this cell to show the HTML representation or trust the notebook. <br />On GitHub, the HTML representation is unable to render, please try loading this page with nbviewer.org.</b></div><div class=\"sk-container\" hidden><div class=\"sk-item sk-dashed-wrapped\"><div class=\"sk-label-container\"><div class=\"sk-label sk-toggleable\"><input class=\"sk-toggleable__control sk-hidden--visually\" id=\"sk-estimator-id-10\" type=\"checkbox\" ><label for=\"sk-estimator-id-10\" class=\"sk-toggleable__label sk-toggleable__label-arrow\">GridSearchCV</label><div class=\"sk-toggleable__content\"><pre>GridSearchCV(cv=3,\n",
              "             estimator=RandomForestClassifier(class_weight=&#x27;balanced&#x27;,\n",
              "                                              random_state=42),\n",
              "             param_grid={&#x27;max_depth&#x27;: [2, 3, 4, 5],\n",
              "                         &#x27;n_estimators&#x27;: [10, 50, 100, 200]},\n",
              "             scoring=&#x27;roc_auc&#x27;)</pre></div></div></div><div class=\"sk-parallel\"><div class=\"sk-parallel-item\"><div class=\"sk-item\"><div class=\"sk-label-container\"><div class=\"sk-label sk-toggleable\"><input class=\"sk-toggleable__control sk-hidden--visually\" id=\"sk-estimator-id-11\" type=\"checkbox\" ><label for=\"sk-estimator-id-11\" class=\"sk-toggleable__label sk-toggleable__label-arrow\">estimator: RandomForestClassifier</label><div class=\"sk-toggleable__content\"><pre>RandomForestClassifier(class_weight=&#x27;balanced&#x27;, random_state=42)</pre></div></div></div><div class=\"sk-serial\"><div class=\"sk-item\"><div class=\"sk-estimator sk-toggleable\"><input class=\"sk-toggleable__control sk-hidden--visually\" id=\"sk-estimator-id-12\" type=\"checkbox\" ><label for=\"sk-estimator-id-12\" class=\"sk-toggleable__label sk-toggleable__label-arrow\">RandomForestClassifier</label><div class=\"sk-toggleable__content\"><pre>RandomForestClassifier(class_weight=&#x27;balanced&#x27;, random_state=42)</pre></div></div></div></div></div></div></div></div></div></div>"
            ]
          },
          "metadata": {},
          "execution_count": 30
        }
      ],
      "source": [
        "grid_search.fit(X_train, y_train)"
      ]
    },
    {
      "cell_type": "code",
      "source": [
        "best_model = grid_search.best_estimator_\n",
        "print(best_model)"
      ],
      "metadata": {
        "colab": {
          "base_uri": "https://localhost:8080/"
        },
        "id": "d2UU-5dDBfKc",
        "outputId": "d8b82786-a7c9-409d-af4c-2c7bc3a78c85"
      },
      "execution_count": 31,
      "outputs": [
        {
          "output_type": "stream",
          "name": "stdout",
          "text": [
            "RandomForestClassifier(class_weight='balanced', max_depth=5, n_estimators=50,\n",
            "                       random_state=42)\n"
          ]
        }
      ]
    },
    {
      "cell_type": "code",
      "execution_count": 32,
      "metadata": {
        "colab": {
          "base_uri": "https://localhost:8080/"
        },
        "id": "JgsH_38dHPOM",
        "outputId": "b8f15d52-b3d3-47c3-eba1-e3e4b0edc657"
      },
      "outputs": [
        {
          "output_type": "stream",
          "name": "stdout",
          "text": [
            "{'max_depth': 5, 'n_estimators': 50}\n",
            "0.9810531580905045\n"
          ]
        }
      ],
      "source": [
        "print(grid_search.best_params_)\n",
        "print(grid_search.best_score_)"
      ]
    },
    {
      "cell_type": "markdown",
      "metadata": {
        "id": "_8jT-NzYzShz"
      },
      "source": [
        "O parâmetro class_weight='balanced' no Random Forest é usado para lidar com desequilíbrio de classes em problemas de classificação. Quando definido como 'balanced', o Random Forest dará mais importância à classe menos representada, permitindo que o modelo aprenda com mais foco nessa classe e, assim, possa realizar previsões mais precisas para essa classe."
      ]
    },
    {
      "cell_type": "markdown",
      "metadata": {
        "id": "hoLL0cBEIwSM"
      },
      "source": [
        "4)"
      ]
    },
    {
      "cell_type": "code",
      "execution_count": 33,
      "metadata": {
        "colab": {
          "base_uri": "https://localhost:8080/"
        },
        "id": "UWTdLf9K2nHw",
        "outputId": "381c2ce2-4a8f-4768-bb94-a5c87b8f9531"
      },
      "outputs": [
        {
          "output_type": "stream",
          "name": "stdout",
          "text": [
            "lucro: 16532 reais\n",
            "\n"
          ]
        }
      ],
      "source": [
        "# Utilizando a base de teste\n",
        "\n",
        "X_test = df.drop(['Time', 'Class'], axis=1)\n",
        "y_test = df['Class']\n",
        "\n",
        "# Obtendo as probabilidades de fraude\n",
        "proba = best_model.predict_proba(X_test)\n",
        "\n",
        "# Criando um DataFrame contendo as probabilidades de classe para cada transação e a classe verdadeira:\n",
        "df_predictions = pd.DataFrame({'Probabilidade_fraude': proba[:, 1], 'Class': y_test})\n",
        "\n",
        "# Ordenando as transações com base nas probabilidades de fraude em ordem decrescente:\n",
        "df_predictions = df_predictions.sort_values(by='Probabilidade_fraude', ascending=False)\n",
        "top_1 = df_predictions.head(int(len(df_predictions) * 0.01))\n",
        "\n",
        "# Calulando o lucro\n",
        "lucro_fraude = len(top_1[top_1['Class'] == 1]) * 100\n",
        "nao_fraude_preju = len(top_1[top_1['Class'] == 0]) * 2\n",
        "lucro = lucro_fraude - nao_fraude_preju\n",
        "\n",
        "print(f\"lucro: {lucro} reais\\n\")"
      ]
    }
  ],
  "metadata": {
    "colab": {
      "provenance": []
    },
    "kernelspec": {
      "display_name": "Python 3",
      "name": "python3"
    },
    "language_info": {
      "name": "python"
    }
  },
  "nbformat": 4,
  "nbformat_minor": 0
}